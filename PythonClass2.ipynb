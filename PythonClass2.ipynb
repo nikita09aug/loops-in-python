{
  "nbformat": 4,
  "nbformat_minor": 0,
  "metadata": {
    "colab": {
      "provenance": []
    },
    "kernelspec": {
      "name": "python3",
      "display_name": "Python 3"
    },
    "language_info": {
      "name": "python"
    }
  },
  "cells": [
    {
      "cell_type": "markdown",
      "source": [
        "# 1.Write a program to check the year is a leap year or not\n",
        "\n",
        "Concept: if : to check condition\n",
        "% (modulus) operator : calculate the remainder\n",
        "\n",
        "==:equalty operator\n",
        "a=3: assigning the value to a (equality operator)\n",
        "a==3: checking whether a is equal to 3 or not\n",
        "\n",
        "and: bth conditions should be true\n",
        "or: one or both conditions to be true\n",
        "\n",
        "!=unequal or not equal to"
      ],
      "metadata": {
        "id": "ayDIxpYfkIyy"
      }
    },
    {
      "cell_type": "code",
      "source": [
        "year= int(input(\"enter year to be checked\"))\n",
        "if(year %4==0 and year %100!=0 or year %400==0):\n",
        "  print(\"Year is a leap year\")\n",
        "else:\n",
        "  print(\"Year is not a leap year\")"
      ],
      "metadata": {
        "colab": {
          "base_uri": "https://localhost:8080/"
        },
        "id": "cP8qNDfrkKcv",
        "outputId": "2f292166-404e-447f-e6fc-ba84bec58326"
      },
      "execution_count": null,
      "outputs": [
        {
          "output_type": "stream",
          "name": "stdout",
          "text": [
            "enter year to be checked2000\n",
            "Year is a leap year\n"
          ]
        }
      ]
    },
    {
      "cell_type": "markdown",
      "source": [
        "# 2.convert height entered cms to inches\n",
        "\n",
        " concept:\n",
        " round : round off by the number of decimal places\n",
        "\n",
        "\n"
      ],
      "metadata": {
        "id": "TIhq-Fw_rZse"
      }
    },
    {
      "cell_type": "code",
      "source": [
        "cm= int(input(\"enter height in centimeters:\"))\n",
        "inches=cm*0.394\n",
        "feet=cm*0.0328\n",
        "print(\"height in inches\",round(inches,2))\n",
        "print(\"height in feet\",round(feet,2))\n"
      ],
      "metadata": {
        "id": "eK-8Xdozriwx"
      },
      "execution_count": null,
      "outputs": []
    },
    {
      "cell_type": "markdown",
      "source": [
        "Sequence Data Type:\n",
        "\n",
        "List:for multiple values , [ ]"
      ],
      "metadata": {
        "id": "Uq_xdaS4upnl"
      }
    },
    {
      "cell_type": "code",
      "source": [
        "kilos= int(input(\"Enter weight in kilos\"))\n",
        "grams= kilos*1000\n",
        "print(\"Weight in grams\",(grams))"
      ],
      "metadata": {
        "id": "qEvZoxVGMK6X",
        "colab": {
          "base_uri": "https://localhost:8080/"
        },
        "outputId": "bffb9276-040f-46f8-fb8d-cb63abac12b1"
      },
      "execution_count": null,
      "outputs": [
        {
          "output_type": "stream",
          "name": "stdout",
          "text": [
            "Enter weight in kilos10\n",
            "Weight in grams 10000\n"
          ]
        }
      ]
    },
    {
      "cell_type": "code",
      "source": [
        "num=int(input(\"enter number\"))\n",
        "dozens=num/12\n",
        "print(\"dozens\",(dozens))"
      ],
      "metadata": {
        "colab": {
          "base_uri": "https://localhost:8080/"
        },
        "id": "Cx3iE3FcOgVz",
        "outputId": "b21a9346-08f2-46eb-c7fc-3dfc1350ba72"
      },
      "execution_count": null,
      "outputs": [
        {
          "output_type": "stream",
          "name": "stdout",
          "text": [
            "enter number36\n",
            "dozens 3.0\n"
          ]
        }
      ]
    },
    {
      "cell_type": "code",
      "source": [
        "year= int(input(\"Enter year\"))\n",
        "if (year %4==0 and year %100!=0 or year %400==0):\n",
        "  print(\"Leap year\")\n",
        "else:\n",
        "  print (\"Not a leap year\" )\n",
        "\n"
      ],
      "metadata": {
        "colab": {
          "base_uri": "https://localhost:8080/"
        },
        "id": "hwKu2uu-R7A0",
        "outputId": "a5892770-d356-4c5a-f5d0-f0e99ecbb1c9"
      },
      "execution_count": null,
      "outputs": [
        {
          "output_type": "stream",
          "name": "stdout",
          "text": [
            "Enter year2000\n",
            "Leap year\n"
          ]
        }
      ]
    },
    {
      "cell_type": "code",
      "source": [
        "list1=[3,5,8,9]\n",
        "print(list1)\n"
      ],
      "metadata": {
        "colab": {
          "base_uri": "https://localhost:8080/"
        },
        "id": "3foL8GkQzLTo",
        "outputId": "3eedf078-56cd-40b2-fc6a-ad13fd4cab56"
      },
      "execution_count": null,
      "outputs": [
        {
          "output_type": "stream",
          "name": "stdout",
          "text": [
            "[3, 5, 8, 9]\n"
          ]
        }
      ]
    },
    {
      "cell_type": "code",
      "source": [
        "#len fuction will give the length of the list\n",
        "len(list1)"
      ],
      "metadata": {
        "colab": {
          "base_uri": "https://localhost:8080/"
        },
        "id": "LgiIgy0DzUWw",
        "outputId": "954b1a5e-4a26-4d0f-e62c-1ef2329407fe"
      },
      "execution_count": null,
      "outputs": [
        {
          "output_type": "execute_result",
          "data": {
            "text/plain": [
              "4"
            ]
          },
          "metadata": {},
          "execution_count": 11
        }
      ]
    },
    {
      "cell_type": "code",
      "source": [
        "list2=[\"maths\",\"english\",\"CS\"]\n",
        "print(list2)"
      ],
      "metadata": {
        "colab": {
          "base_uri": "https://localhost:8080/"
        },
        "id": "7BtnADi_zjCp",
        "outputId": "fbeaebd4-aaf7-41f6-ccb8-736b01542c29"
      },
      "execution_count": null,
      "outputs": [
        {
          "output_type": "stream",
          "name": "stdout",
          "text": [
            "['maths', 'english', 'CS']\n"
          ]
        }
      ]
    },
    {
      "cell_type": "code",
      "source": [
        "list3=[\"maths\",5,\"CS\"]\n",
        "print(list3)\n",
        "len(list3)"
      ],
      "metadata": {
        "colab": {
          "base_uri": "https://localhost:8080/"
        },
        "id": "_65qr8Tt009S",
        "outputId": "7fd11c92-2a6f-4d88-e0dd-a23aebfa0755"
      },
      "execution_count": null,
      "outputs": [
        {
          "output_type": "stream",
          "name": "stdout",
          "text": [
            "['maths', 5, 'CS']\n"
          ]
        },
        {
          "output_type": "execute_result",
          "data": {
            "text/plain": [
              "3"
            ]
          },
          "metadata": {},
          "execution_count": 14
        }
      ]
    },
    {
      "cell_type": "code",
      "source": [
        "list1=[8,5,7,9,6,3,\"m\",4]\n",
        "print (list1)"
      ],
      "metadata": {
        "colab": {
          "base_uri": "https://localhost:8080/"
        },
        "id": "cOaNsDUKZMhj",
        "outputId": "9e0c459d-ef03-4b98-fc5c-90e196bcf5a6"
      },
      "execution_count": null,
      "outputs": [
        {
          "output_type": "stream",
          "name": "stdout",
          "text": [
            "[8, 5, 7, 9, 6, 3, 'm', 4]\n"
          ]
        }
      ]
    },
    {
      "cell_type": "code",
      "source": [
        "list1[-7]"
      ],
      "metadata": {
        "colab": {
          "base_uri": "https://localhost:8080/"
        },
        "id": "U0TVVU_qZlwd",
        "outputId": "625b583b-9acc-4cad-ac34-93ea75601115"
      },
      "execution_count": null,
      "outputs": [
        {
          "output_type": "execute_result",
          "data": {
            "text/plain": [
              "8"
            ]
          },
          "metadata": {},
          "execution_count": 45
        }
      ]
    },
    {
      "cell_type": "markdown",
      "source": [
        "index: position of element(value) inthe List\n",
        "\n",
        "Positive index- 0----\n",
        "Negative index -1"
      ],
      "metadata": {
        "id": "2GhNzxtp1G8r"
      }
    },
    {
      "cell_type": "code",
      "source": [
        "list1[1]"
      ],
      "metadata": {
        "colab": {
          "base_uri": "https://localhost:8080/"
        },
        "id": "t_0_YvPR2TBe",
        "outputId": "6865282e-7dc0-4d1a-b943-58f025600e1e"
      },
      "execution_count": null,
      "outputs": [
        {
          "output_type": "execute_result",
          "data": {
            "text/plain": [
              "5"
            ]
          },
          "metadata": {},
          "execution_count": 16
        }
      ]
    },
    {
      "cell_type": "code",
      "source": [
        "list2[-3]"
      ],
      "metadata": {
        "colab": {
          "base_uri": "https://localhost:8080/",
          "height": 36
        },
        "id": "ORWxrYlN2ZN4",
        "outputId": "3bf671c7-18c2-43d0-d2ae-7b1854e1045c"
      },
      "execution_count": null,
      "outputs": [
        {
          "output_type": "execute_result",
          "data": {
            "text/plain": [
              "'maths'"
            ],
            "application/vnd.google.colaboratory.intrinsic+json": {
              "type": "string"
            }
          },
          "metadata": {},
          "execution_count": 17
        }
      ]
    },
    {
      "cell_type": "markdown",
      "source": [
        "Slice:access the element of list within the specified index values"
      ],
      "metadata": {
        "id": "2F5SzWK22fSD"
      }
    },
    {
      "cell_type": "code",
      "source": [
        "list1[0:2]"
      ],
      "metadata": {
        "colab": {
          "base_uri": "https://localhost:8080/"
        },
        "id": "ygSsLxVK21sy",
        "outputId": "5ec4fcbd-7e80-4500-c0e2-023f60a9ebc4"
      },
      "execution_count": null,
      "outputs": [
        {
          "output_type": "execute_result",
          "data": {
            "text/plain": [
              "[3, 5]"
            ]
          },
          "metadata": {},
          "execution_count": 18
        }
      ]
    },
    {
      "cell_type": "code",
      "source": [
        "a =\" hello, world \"\n",
        "print (a.split(\"r\"))"
      ],
      "metadata": {
        "colab": {
          "base_uri": "https://localhost:8080/"
        },
        "id": "MhUAvcHFeOQ-",
        "outputId": "6c53372a-5ed4-4073-c970-96fcfb662f41"
      },
      "execution_count": null,
      "outputs": [
        {
          "output_type": "stream",
          "name": "stdout",
          "text": [
            "[' hello, wo', 'ld ']\n"
          ]
        }
      ]
    },
    {
      "cell_type": "markdown",
      "source": [
        "Assignment :\n",
        "1.Create a list of sandwich ingredients you can think of and get some of the ingredients out of itin a separate list.\n",
        "2.You have a list with subjects and marks eg: [\"English\", 90, \"Maths\", 95----](5subjects). Write Python code to extract a list of marks only out of the first list. eg[90,95]"
      ],
      "metadata": {
        "id": "ahZFREBo3MWM"
      }
    },
    {
      "cell_type": "code",
      "source": [
        "#1.Create a list of sandwich ingredients you can think of and get some of the ingredients out of it in a separate list.\n",
        "sandwichingredients=[\"bread\",\"cucumber\",\"tomato\",\"butter\",\"cheese\",\"lettuce\",\"pepper\"]\n",
        "print(sandwichingredients)\n",
        "print(sandwichingredients[0:5])\n",
        "sandwichingredients[0:5]\n"
      ],
      "metadata": {
        "colab": {
          "base_uri": "https://localhost:8080/"
        },
        "id": "EaJkK-H3UoUN",
        "outputId": "367f5cdc-ed9f-41c2-97a7-fa5534aceb8a"
      },
      "execution_count": null,
      "outputs": [
        {
          "output_type": "stream",
          "name": "stdout",
          "text": [
            "['bread', 'cucumber', 'tomato', 'butter', 'cheese', 'lettuce', 'pepper']\n",
            "['bread', 'cucumber', 'tomato', 'butter', 'cheese']\n"
          ]
        },
        {
          "output_type": "execute_result",
          "data": {
            "text/plain": [
              "['bread', 'cucumber', 'tomato', 'butter', 'cheese']"
            ]
          },
          "metadata": {},
          "execution_count": 10
        }
      ]
    },
    {
      "cell_type": "code",
      "source": [
        "#2.You have a list with subjects and marks eg: [\"English\", 90, \"Maths\", 95----](5subjects). Write Python code to extract a list of marks only out of the first list. eg[90,95]\n",
        "list4=[\"English\",90,\"Maths\",94,\"Science\",96,\"Computers\",88,\"Hindi\",83]\n",
        "marks=list4[1::2]\n",
        "print(marks)"
      ],
      "metadata": {
        "colab": {
          "base_uri": "https://localhost:8080/"
        },
        "id": "fGRQ5-yaXXSw",
        "outputId": "e2c77bf6-951c-4a40-f4f9-a701da8e1765"
      },
      "execution_count": 1,
      "outputs": [
        {
          "output_type": "stream",
          "name": "stdout",
          "text": [
            "[90, 94, 96, 88, 83]\n"
          ]
        }
      ]
    }
  ]
}